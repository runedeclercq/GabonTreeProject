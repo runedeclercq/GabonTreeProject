# -------------------------------
# Gabon Tree Exploration Project
# Colab Template
# -------------------------------

# 1️⃣ Mount Google Drive (for large data files)
from google.colab import drive
drive.mount('/content/drive')

# Update paths to your Drive folders
DRIVE_PATH = "/content/drive/MyDrive/GabonTreeProject"
DATA_PATH = f"{DRIVE_PATH}/data"
OUTPUTS_PATH = f"{DRIVE_PATH}/outputs"

# 2️⃣ Clone GitHub repo
# Replace with your actual repo URL
!git clone https://github.com/runedeclercq/GabonTreeProject.git
%cd repo_name

# 3️⃣ Install dependencies
!pip install -r requirements.txt

# Optional: install your local decid package
!pip install -e scripts/

# 4️⃣ Add scripts folder to Python path
import sys
sys.path.append("scripts")

# 5️⃣ Run notebooks sequentially
# You can comment/uncomment the ones you want
notebooks = [
    "scripts/1_data_cleanup.ipynb",
    "scripts/2_diameter_comparison.ipynb",
    "scripts/3_diurnal_changes.ipynb",
    "scripts/4_climate.ipynb",
    "scripts/5_water_relations.ipynb",
    "scripts/6_phenocam_data_animation.ipynb",  # optional animation
    "scripts/6_rain_and_flowering.ipynb"
]

for nb in notebooks:
    print(f"🚀 Executing {nb} ...")
    !jupyter nbconvert --to notebook --execute "{nb}" --output executed_{nb.split('/')[-1]}

