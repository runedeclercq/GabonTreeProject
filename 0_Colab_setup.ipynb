{
 "cells": [
  {
   "cell_type": "code",
   "execution_count": null,
   "id": "4b122fa7",
   "metadata": {},
   "outputs": [],
   "source": [
    "# -------------------------------\n",
    "# Gabon Tree Exploration Project\n",
    "# Colab Template\n",
    "# -------------------------------\n",
    "\n",
    "# 1️⃣ Mount Google Drive (for large data files)\n",
    "from google.colab import drive\n",
    "drive.mount('/content/drive')\n",
    "\n",
    "# Update paths to your Drive folders\n",
    "DRIVE_PATH = \"/content/drive/MyDrive/GabonTreeProject\"\n",
    "DATA_PATH = f\"{DRIVE_PATH}/data\"\n",
    "OUTPUTS_PATH = f\"{DRIVE_PATH}/outputs\"\n",
    "\n",
    "# 2️⃣ Clone GitHub repo\n",
    "# Replace with your actual repo URL\n",
    "!git clone https://github.com/runedeclercq/GabonTreeProject.git\n",
    "%cd GabonTreeProject\n",
    "\n",
    "# 3️⃣ Install dependencies\n",
    "!pip install -r requirements_colab.txt\n",
    "\n",
    "# Optional: install your local decid package\n",
    "!pip install -e scripts/\n",
    "\n",
    "# 4️⃣ Add scripts folder to Python path\n",
    "import sys\n",
    "sys.path.append(\"scripts\")\n",
    "\n",
    "# 5️⃣ Run notebooks sequentially\n",
    "# You can comment/uncomment the ones you want\n",
    "notebooks = [\n",
    "    \"scripts/1_data_cleanup.ipynb\",\n",
    "    \"scripts/2_diameter_comparison.ipynb\",\n",
    "    \"scripts/3_diurnal_changes.ipynb\",\n",
    "    \"scripts/4_climate.ipynb\",\n",
    "    \"scripts/5_water_relations.ipynb\",\n",
    "    # \"scripts/6_phenocam_data_animation.ipynb\",  # optional animation\n",
    "    \"scripts/6_rain_and_flowering.ipynb\"\n",
    "]\n",
    "\n",
    "for nb in notebooks:\n",
    "    output_nb = os.path.join(OUTPUTS_PATH, f\"executed_{os.path.basename(nb)}\")\n",
    "    print(f\"🚀 Executing {nb} ...\")\n",
    "    !jupyter nbconvert --to notebook --execute \"{nb}\" --output \"{output_nb}\"\n"
   ]
  }
 ],
 "metadata": {
  "language_info": {
   "name": "python"
  }
 },
 "nbformat": 4,
 "nbformat_minor": 5
}
