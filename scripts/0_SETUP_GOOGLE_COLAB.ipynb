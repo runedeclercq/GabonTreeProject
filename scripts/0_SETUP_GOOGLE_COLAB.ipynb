{
 "cells": [
  {
   "cell_type": "markdown",
   "id": "d34fb5ce",
   "metadata": {},
   "source": [
    "# ========================================\n",
    "# 🔧 Setup for GabonTreeProject in Colab\n",
    "# ========================================\n"
   ]
  },
  {
   "cell_type": "code",
   "execution_count": null,
   "id": "0863d06f",
   "metadata": {},
   "outputs": [],
   "source": [
    "\n",
    "# 1. Clone the repo\n",
    "!git clone https://github.com/yourusername/GabonTreeProject.git\n",
    "%cd GabonTreeProject"
   ]
  },
  {
   "cell_type": "code",
   "execution_count": null,
   "id": "d840b7d3",
   "metadata": {},
   "outputs": [],
   "source": [
    "\n",
    "# 2. (Optional) Mount Google Drive to store outputs permanently\n",
    "from google.colab import drive\n",
    "drive.mount('/content/drive')\n",
    "\n",
    "import os\n",
    "# Redirect outputs to Drive (optional)\n",
    "OUTPUTS_PATH = \"/content/drive/MyDrive/GabonTreeProject/outputs\"\n",
    "os.makedirs(OUTPUTS_PATH, exist_ok=True)\n",
    "\n",
    "\n",
    "# Patch run_all.py to use Drive outputs (only needed once per Colab run)\n",
    "with open(\"run_all.py\", \"r\") as f:\n",
    "    script = f.read()\n",
    "script = script.replace('OUTPUTS_PATH = os.path.join(REPO_ROOT, \"outputs\")',\n",
    "                        f'OUTPUTS_PATH = \"{OUTPUTS_PATH}\"')\n",
    "with open(\"run_all.py\", \"w\") as f:\n",
    "    f.write(script)"
   ]
  },
  {
   "cell_type": "code",
   "execution_count": null,
   "id": "97323749",
   "metadata": {},
   "outputs": [],
   "source": [
    "\n",
    "# 3. Install requirements\n",
    "!pip install -r requirements.txt\n"
   ]
  },
  {
   "cell_type": "code",
   "execution_count": null,
   "id": "0f0f6a29",
   "metadata": {},
   "outputs": [],
   "source": [
    "\n",
    "# 4. Run startup script (executes all notebooks)\n",
    "!python run_all.py\n"
   ]
  }
 ],
 "metadata": {
  "language_info": {
   "name": "python"
  }
 },
 "nbformat": 4,
 "nbformat_minor": 5
}
